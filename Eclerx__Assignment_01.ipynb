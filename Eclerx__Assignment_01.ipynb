{
  "nbformat": 4,
  "nbformat_minor": 0,
  "metadata": {
    "colab": {
      "name": "Eclerx_ Assignment_01.ipynb",
      "provenance": [],
      "collapsed_sections": [],
      "authorship_tag": "ABX9TyOnfj4hD3v7gJttsOlHcs/v",
      "include_colab_link": true
    },
    "kernelspec": {
      "name": "python3",
      "display_name": "Python 3"
    },
    "language_info": {
      "name": "python"
    }
  },
  "cells": [
    {
      "cell_type": "markdown",
      "metadata": {
        "id": "view-in-github",
        "colab_type": "text"
      },
      "source": [
        "<a href=\"https://colab.research.google.com/github/Soumya164/Airbnb_Booking_Analysis/blob/main/Eclerx__Assignment_01.ipynb\" target=\"_parent\"><img src=\"https://colab.research.google.com/assets/colab-badge.svg\" alt=\"Open In Colab\"/></a>"
      ]
    },
    {
      "cell_type": "code",
      "execution_count": 2,
      "metadata": {
        "colab": {
          "base_uri": "https://localhost:8080/"
        },
        "id": "Zbnnt-Eb7CXb",
        "outputId": "f9af6f03-daa7-444b-9f41-ff2bb1c81c56"
      },
      "outputs": [
        {
          "output_type": "stream",
          "name": "stdout",
          "text": [
            "Collecting scrapy\n",
            "  Downloading Scrapy-2.5.1-py2.py3-none-any.whl (254 kB)\n",
            "\u001b[?25l\r\u001b[K     |█▎                              | 10 kB 20.4 MB/s eta 0:00:01\r\u001b[K     |██▋                             | 20 kB 11.6 MB/s eta 0:00:01\r\u001b[K     |███▉                            | 30 kB 7.9 MB/s eta 0:00:01\r\u001b[K     |█████▏                          | 40 kB 8.5 MB/s eta 0:00:01\r\u001b[K     |██████▍                         | 51 kB 4.6 MB/s eta 0:00:01\r\u001b[K     |███████▊                        | 61 kB 5.5 MB/s eta 0:00:01\r\u001b[K     |█████████                       | 71 kB 5.6 MB/s eta 0:00:01\r\u001b[K     |██████████▎                     | 81 kB 4.3 MB/s eta 0:00:01\r\u001b[K     |███████████▋                    | 92 kB 4.8 MB/s eta 0:00:01\r\u001b[K     |████████████▉                   | 102 kB 5.3 MB/s eta 0:00:01\r\u001b[K     |██████████████▏                 | 112 kB 5.3 MB/s eta 0:00:01\r\u001b[K     |███████████████▍                | 122 kB 5.3 MB/s eta 0:00:01\r\u001b[K     |████████████████▊               | 133 kB 5.3 MB/s eta 0:00:01\r\u001b[K     |██████████████████              | 143 kB 5.3 MB/s eta 0:00:01\r\u001b[K     |███████████████████▎            | 153 kB 5.3 MB/s eta 0:00:01\r\u001b[K     |████████████████████▋           | 163 kB 5.3 MB/s eta 0:00:01\r\u001b[K     |█████████████████████▉          | 174 kB 5.3 MB/s eta 0:00:01\r\u001b[K     |███████████████████████▏        | 184 kB 5.3 MB/s eta 0:00:01\r\u001b[K     |████████████████████████▍       | 194 kB 5.3 MB/s eta 0:00:01\r\u001b[K     |█████████████████████████▊      | 204 kB 5.3 MB/s eta 0:00:01\r\u001b[K     |███████████████████████████     | 215 kB 5.3 MB/s eta 0:00:01\r\u001b[K     |████████████████████████████▎   | 225 kB 5.3 MB/s eta 0:00:01\r\u001b[K     |█████████████████████████████▋  | 235 kB 5.3 MB/s eta 0:00:01\r\u001b[K     |██████████████████████████████▉ | 245 kB 5.3 MB/s eta 0:00:01\r\u001b[K     |████████████████████████████████| 254 kB 5.3 MB/s \n",
            "\u001b[?25hCollecting service-identity>=16.0.0\n",
            "  Downloading service_identity-21.1.0-py2.py3-none-any.whl (12 kB)\n",
            "Collecting parsel>=1.5.0\n",
            "  Downloading parsel-1.6.0-py2.py3-none-any.whl (13 kB)\n",
            "Collecting itemadapter>=0.1.0\n",
            "  Downloading itemadapter-0.4.0-py3-none-any.whl (10 kB)\n",
            "Collecting cryptography>=2.0\n",
            "  Downloading cryptography-36.0.1-cp36-abi3-manylinux_2_24_x86_64.whl (3.6 MB)\n",
            "\u001b[K     |████████████████████████████████| 3.6 MB 46.5 MB/s \n",
            "\u001b[?25hCollecting itemloaders>=1.0.1\n",
            "  Downloading itemloaders-1.0.4-py3-none-any.whl (11 kB)\n",
            "Collecting protego>=0.1.15\n",
            "  Downloading Protego-0.2.1-py2.py3-none-any.whl (8.2 kB)\n",
            "Requirement already satisfied: lxml>=3.5.0 in /usr/local/lib/python3.7/dist-packages (from scrapy) (4.2.6)\n",
            "Collecting PyDispatcher>=2.0.5\n",
            "  Downloading PyDispatcher-2.0.5.zip (47 kB)\n",
            "\u001b[K     |████████████████████████████████| 47 kB 5.2 MB/s \n",
            "\u001b[?25hCollecting h2<4.0,>=3.0\n",
            "  Downloading h2-3.2.0-py2.py3-none-any.whl (65 kB)\n",
            "\u001b[K     |████████████████████████████████| 65 kB 3.9 MB/s \n",
            "\u001b[?25hCollecting pyOpenSSL>=16.2.0\n",
            "  Downloading pyOpenSSL-22.0.0-py2.py3-none-any.whl (55 kB)\n",
            "\u001b[K     |████████████████████████████████| 55 kB 4.4 MB/s \n",
            "\u001b[?25hCollecting Twisted[http2]>=17.9.0\n",
            "  Downloading Twisted-22.1.0-py3-none-any.whl (3.1 MB)\n",
            "\u001b[K     |████████████████████████████████| 3.1 MB 47.2 MB/s \n",
            "\u001b[?25hCollecting queuelib>=1.4.2\n",
            "  Downloading queuelib-1.6.2-py2.py3-none-any.whl (13 kB)\n",
            "Collecting w3lib>=1.17.0\n",
            "  Downloading w3lib-1.22.0-py2.py3-none-any.whl (20 kB)\n",
            "Collecting zope.interface>=4.1.3\n",
            "  Downloading zope.interface-5.4.0-cp37-cp37m-manylinux2010_x86_64.whl (251 kB)\n",
            "\u001b[K     |████████████████████████████████| 251 kB 67.3 MB/s \n",
            "\u001b[?25hCollecting cssselect>=0.9.1\n",
            "  Downloading cssselect-1.1.0-py2.py3-none-any.whl (16 kB)\n",
            "Requirement already satisfied: cffi>=1.12 in /usr/local/lib/python3.7/dist-packages (from cryptography>=2.0->scrapy) (1.15.0)\n",
            "Requirement already satisfied: pycparser in /usr/local/lib/python3.7/dist-packages (from cffi>=1.12->cryptography>=2.0->scrapy) (2.21)\n",
            "Collecting hyperframe<6,>=5.2.0\n",
            "  Downloading hyperframe-5.2.0-py2.py3-none-any.whl (12 kB)\n",
            "Collecting hpack<4,>=3.0\n",
            "  Downloading hpack-3.0.0-py2.py3-none-any.whl (38 kB)\n",
            "Collecting jmespath>=0.9.5\n",
            "  Downloading jmespath-0.10.0-py2.py3-none-any.whl (24 kB)\n",
            "Requirement already satisfied: six>=1.6.0 in /usr/local/lib/python3.7/dist-packages (from parsel>=1.5.0->scrapy) (1.15.0)\n",
            "Requirement already satisfied: pyasn1-modules in /usr/local/lib/python3.7/dist-packages (from service-identity>=16.0.0->scrapy) (0.2.8)\n",
            "Requirement already satisfied: pyasn1 in /usr/local/lib/python3.7/dist-packages (from service-identity>=16.0.0->scrapy) (0.4.8)\n",
            "Requirement already satisfied: attrs>=19.1.0 in /usr/local/lib/python3.7/dist-packages (from service-identity>=16.0.0->scrapy) (21.4.0)\n",
            "Collecting hyperlink>=17.1.1\n",
            "  Downloading hyperlink-21.0.0-py2.py3-none-any.whl (74 kB)\n",
            "\u001b[K     |████████████████████████████████| 74 kB 3.7 MB/s \n",
            "\u001b[?25hCollecting Automat>=0.8.0\n",
            "  Downloading Automat-20.2.0-py2.py3-none-any.whl (31 kB)\n",
            "Requirement already satisfied: typing-extensions>=3.6.5 in /usr/local/lib/python3.7/dist-packages (from Twisted[http2]>=17.9.0->scrapy) (3.10.0.2)\n",
            "Collecting incremental>=21.3.0\n",
            "  Downloading incremental-21.3.0-py2.py3-none-any.whl (15 kB)\n",
            "Collecting constantly>=15.1\n",
            "  Downloading constantly-15.1.0-py2.py3-none-any.whl (7.9 kB)\n",
            "Collecting priority<2.0,>=1.1.0\n",
            "  Downloading priority-1.3.0-py2.py3-none-any.whl (11 kB)\n",
            "Requirement already satisfied: idna>=2.5 in /usr/local/lib/python3.7/dist-packages (from hyperlink>=17.1.1->Twisted[http2]>=17.9.0->scrapy) (2.10)\n",
            "Requirement already satisfied: setuptools in /usr/local/lib/python3.7/dist-packages (from zope.interface>=4.1.3->scrapy) (57.4.0)\n",
            "Building wheels for collected packages: PyDispatcher\n",
            "  Building wheel for PyDispatcher (setup.py) ... \u001b[?25l\u001b[?25hdone\n",
            "  Created wheel for PyDispatcher: filename=PyDispatcher-2.0.5-py3-none-any.whl size=11516 sha256=9d8207334da4f86e0c818e761c95a6978860ac74b35bcbd7e2adbae185be1830\n",
            "  Stored in directory: /root/.cache/pip/wheels/2d/18/21/3c6a732eaa69a339198e08bb63b7da2c45933a3428b29ec454\n",
            "Successfully built PyDispatcher\n",
            "Installing collected packages: zope.interface, w3lib, incremental, hyperlink, hyperframe, hpack, cssselect, constantly, Automat, Twisted, priority, parsel, jmespath, itemadapter, h2, cryptography, service-identity, queuelib, pyOpenSSL, PyDispatcher, protego, itemloaders, scrapy\n",
            "Successfully installed Automat-20.2.0 PyDispatcher-2.0.5 Twisted-22.1.0 constantly-15.1.0 cryptography-36.0.1 cssselect-1.1.0 h2-3.2.0 hpack-3.0.0 hyperframe-5.2.0 hyperlink-21.0.0 incremental-21.3.0 itemadapter-0.4.0 itemloaders-1.0.4 jmespath-0.10.0 parsel-1.6.0 priority-1.3.0 protego-0.2.1 pyOpenSSL-22.0.0 queuelib-1.6.2 scrapy-2.5.1 service-identity-21.1.0 w3lib-1.22.0 zope.interface-5.4.0\n"
          ]
        }
      ],
      "source": [
        "!pip install scrapy"
      ]
    },
    {
      "cell_type": "code",
      "source": [
        "import numpy as np\n",
        "import requests\n",
        "from scrapy.http import HtmlResponse"
      ],
      "metadata": {
        "id": "Wkf5QnWb7HQI"
      },
      "execution_count": 3,
      "outputs": []
    },
    {
      "cell_type": "code",
      "source": [
        "link1 = \"https://www.jdsports.co.uk/product/grey-under-armour-ua-armour-fleece-halo-shorts-junior/16453212/\"\n",
        "link2 = \"https://www.jdsports.co.uk/product/white-the-north-face-girls-long-sleeve-graphic-t-shirt-junior/16452313/\"\n",
        "link3 = \"https://www.jdsports.co.uk/product/white-puma-jada-junior/16234291/\"\n",
        "link4 = \"https://www.jdsports.co.uk/product/white-adidas-girls-linear-crop-hoodieleggings-set-children/16278324/\""
      ],
      "metadata": {
        "id": "rG5j0tH77HTf"
      },
      "execution_count": 4,
      "outputs": []
    },
    {
      "cell_type": "code",
      "source": [
        "links = [link1, link2, link3, link4]"
      ],
      "metadata": {
        "id": "eTD7vt_D7HWw"
      },
      "execution_count": 5,
      "outputs": []
    },
    {
      "cell_type": "code",
      "source": [
        "response = HtmlResponse(url=link, body=res.content)\n",
        "for link in links:\n",
        "  print(link)\n",
        "\n",
        "  res = requests.get(link)\n",
        "  print(res.status_code)\n",
        "\n",
        "  if(res.status_code == 200):\n",
        "    if(link == link4):\n",
        "      product_name = response.xpath('//*[@id=\"productItemTitle\"]/h1/text()').extract()\n",
        "      size = \n",
        "\n",
        "  else:\n",
        "    print(\"Not able to access the website\")  "
      ],
      "metadata": {
        "colab": {
          "base_uri": "https://localhost:8080/",
          "height": 131
        },
        "id": "hBg4a7Az7HZS",
        "outputId": "7343086b-e342-4388-a003-35651f2102a9"
      },
      "execution_count": 9,
      "outputs": [
        {
          "output_type": "error",
          "ename": "SyntaxError",
          "evalue": "ignored",
          "traceback": [
            "\u001b[0;36m  File \u001b[0;32m\"<ipython-input-9-9fbb2228deb7>\"\u001b[0;36m, line \u001b[0;32m9\u001b[0m\n\u001b[0;31m    if(link == ):\u001b[0m\n\u001b[0m               ^\u001b[0m\n\u001b[0;31mSyntaxError\u001b[0m\u001b[0;31m:\u001b[0m invalid syntax\n"
          ]
        }
      ]
    },
    {
      "cell_type": "code",
      "source": [
        ""
      ],
      "metadata": {
        "id": "m3UH3vHx7Hcg"
      },
      "execution_count": null,
      "outputs": []
    },
    {
      "cell_type": "code",
      "source": [
        ""
      ],
      "metadata": {
        "id": "dNmizdPa7Hex"
      },
      "execution_count": null,
      "outputs": []
    },
    {
      "cell_type": "code",
      "source": [
        "#x"
      ],
      "metadata": {
        "id": "uarrMlcR7Hha"
      },
      "execution_count": null,
      "outputs": []
    },
    {
      "cell_type": "code",
      "source": [
        "# y"
      ],
      "metadata": {
        "id": "DQW-oBRw7Hjg"
      },
      "execution_count": null,
      "outputs": []
    },
    {
      "cell_type": "code",
      "source": [
        "# z"
      ],
      "metadata": {
        "id": "K_TNJoLu7HmG"
      },
      "execution_count": null,
      "outputs": []
    }
  ]
}